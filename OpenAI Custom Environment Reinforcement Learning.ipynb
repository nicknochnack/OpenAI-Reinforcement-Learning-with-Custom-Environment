{
 "cells": [
  {
   "cell_type": "markdown",
   "metadata": {},
   "source": [
    "# 0. Install Dependencies"
   ]
  },
  {
   "cell_type": "code",
   "execution_count": 1,
   "metadata": {
    "collapsed": true
   },
   "outputs": [
    {
     "name": "stdout",
     "output_type": "stream",
     "text": [
      "Requirement already satisfied: tensorflow==2.3.0 in /Users/nicholasrenotte/opt/anaconda3/lib/python3.7/site-packages (2.3.0)\n",
      "Requirement already satisfied: opt-einsum>=2.3.2 in /Users/nicholasrenotte/opt/anaconda3/lib/python3.7/site-packages (from tensorflow==2.3.0) (3.1.0)\n",
      "Requirement already satisfied: numpy<1.19.0,>=1.16.0 in /Users/nicholasrenotte/opt/anaconda3/lib/python3.7/site-packages (from tensorflow==2.3.0) (1.17.2)\n",
      "Requirement already satisfied: tensorboard<3,>=2.3.0 in /Users/nicholasrenotte/opt/anaconda3/lib/python3.7/site-packages (from tensorflow==2.3.0) (2.3.0)\n",
      "Requirement already satisfied: absl-py>=0.7.0 in /Users/nicholasrenotte/opt/anaconda3/lib/python3.7/site-packages (from tensorflow==2.3.0) (0.9.0)\n",
      "Requirement already satisfied: protobuf>=3.9.2 in /Users/nicholasrenotte/opt/anaconda3/lib/python3.7/site-packages (from tensorflow==2.3.0) (3.12.2)\n",
      "Requirement already satisfied: tensorflow-estimator<2.4.0,>=2.3.0 in /Users/nicholasrenotte/opt/anaconda3/lib/python3.7/site-packages (from tensorflow==2.3.0) (2.3.0)\n",
      "Requirement already satisfied: termcolor>=1.1.0 in /Users/nicholasrenotte/opt/anaconda3/lib/python3.7/site-packages (from tensorflow==2.3.0) (1.1.0)\n",
      "Requirement already satisfied: wrapt>=1.11.1 in /Users/nicholasrenotte/opt/anaconda3/lib/python3.7/site-packages (from tensorflow==2.3.0) (1.11.2)\n",
      "Requirement already satisfied: wheel>=0.26 in /Users/nicholasrenotte/opt/anaconda3/lib/python3.7/site-packages (from tensorflow==2.3.0) (0.33.6)\n",
      "Requirement already satisfied: grpcio>=1.8.6 in /Users/nicholasrenotte/opt/anaconda3/lib/python3.7/site-packages (from tensorflow==2.3.0) (1.32.0)\n",
      "Requirement already satisfied: google-pasta>=0.1.8 in /Users/nicholasrenotte/opt/anaconda3/lib/python3.7/site-packages (from tensorflow==2.3.0) (0.2.0)\n",
      "Requirement already satisfied: h5py<2.11.0,>=2.10.0 in /Users/nicholasrenotte/opt/anaconda3/lib/python3.7/site-packages (from tensorflow==2.3.0) (2.10.0)\n",
      "Requirement already satisfied: scipy==1.4.1 in /Users/nicholasrenotte/opt/anaconda3/lib/python3.7/site-packages (from tensorflow==2.3.0) (1.4.1)\n",
      "Requirement already satisfied: keras-preprocessing<1.2,>=1.1.1 in /Users/nicholasrenotte/opt/anaconda3/lib/python3.7/site-packages (from tensorflow==2.3.0) (1.1.2)\n",
      "Requirement already satisfied: gast==0.3.3 in /Users/nicholasrenotte/opt/anaconda3/lib/python3.7/site-packages (from tensorflow==2.3.0) (0.3.3)\n",
      "Requirement already satisfied: six>=1.12.0 in /Users/nicholasrenotte/opt/anaconda3/lib/python3.7/site-packages (from tensorflow==2.3.0) (1.15.0)\n",
      "Requirement already satisfied: astunparse==1.6.3 in /Users/nicholasrenotte/opt/anaconda3/lib/python3.7/site-packages (from tensorflow==2.3.0) (1.6.3)\n",
      "Requirement already satisfied: requests<3,>=2.21.0 in /Users/nicholasrenotte/opt/anaconda3/lib/python3.7/site-packages (from tensorboard<3,>=2.3.0->tensorflow==2.3.0) (2.24.0)\n",
      "Requirement already satisfied: google-auth-oauthlib<0.5,>=0.4.1 in /Users/nicholasrenotte/opt/anaconda3/lib/python3.7/site-packages (from tensorboard<3,>=2.3.0->tensorflow==2.3.0) (0.4.1)\n",
      "Requirement already satisfied: markdown>=2.6.8 in /Users/nicholasrenotte/opt/anaconda3/lib/python3.7/site-packages (from tensorboard<3,>=2.3.0->tensorflow==2.3.0) (3.1.1)\n",
      "Requirement already satisfied: setuptools>=41.0.0 in /Users/nicholasrenotte/opt/anaconda3/lib/python3.7/site-packages (from tensorboard<3,>=2.3.0->tensorflow==2.3.0) (41.4.0)\n",
      "Requirement already satisfied: werkzeug>=0.11.15 in /Users/nicholasrenotte/opt/anaconda3/lib/python3.7/site-packages (from tensorboard<3,>=2.3.0->tensorflow==2.3.0) (0.16.0)\n",
      "Requirement already satisfied: google-auth<2,>=1.6.3 in /Users/nicholasrenotte/opt/anaconda3/lib/python3.7/site-packages (from tensorboard<3,>=2.3.0->tensorflow==2.3.0) (1.21.2)\n",
      "Requirement already satisfied: tensorboard-plugin-wit>=1.6.0 in /Users/nicholasrenotte/opt/anaconda3/lib/python3.7/site-packages (from tensorboard<3,>=2.3.0->tensorflow==2.3.0) (1.6.0.post3)\n",
      "Requirement already satisfied: certifi>=2017.4.17 in /Users/nicholasrenotte/opt/anaconda3/lib/python3.7/site-packages (from requests<3,>=2.21.0->tensorboard<3,>=2.3.0->tensorflow==2.3.0) (2019.9.11)\n",
      "Requirement already satisfied: urllib3!=1.25.0,!=1.25.1,<1.26,>=1.21.1 in /Users/nicholasrenotte/opt/anaconda3/lib/python3.7/site-packages (from requests<3,>=2.21.0->tensorboard<3,>=2.3.0->tensorflow==2.3.0) (1.24.2)\n",
      "Requirement already satisfied: chardet<4,>=3.0.2 in /Users/nicholasrenotte/opt/anaconda3/lib/python3.7/site-packages (from requests<3,>=2.21.0->tensorboard<3,>=2.3.0->tensorflow==2.3.0) (3.0.4)\n",
      "Requirement already satisfied: idna<3,>=2.5 in /Users/nicholasrenotte/opt/anaconda3/lib/python3.7/site-packages (from requests<3,>=2.21.0->tensorboard<3,>=2.3.0->tensorflow==2.3.0) (2.8)\n",
      "Requirement already satisfied: requests-oauthlib>=0.7.0 in /Users/nicholasrenotte/opt/anaconda3/lib/python3.7/site-packages (from google-auth-oauthlib<0.5,>=0.4.1->tensorboard<3,>=2.3.0->tensorflow==2.3.0) (1.3.0)\n",
      "Requirement already satisfied: pyasn1-modules>=0.2.1 in /Users/nicholasrenotte/opt/anaconda3/lib/python3.7/site-packages (from google-auth<2,>=1.6.3->tensorboard<3,>=2.3.0->tensorflow==2.3.0) (0.2.8)\n",
      "Requirement already satisfied: rsa<5,>=3.1.4; python_version >= \"3.5\" in /Users/nicholasrenotte/opt/anaconda3/lib/python3.7/site-packages (from google-auth<2,>=1.6.3->tensorboard<3,>=2.3.0->tensorflow==2.3.0) (4.6)\n",
      "Requirement already satisfied: cachetools<5.0,>=2.0.0 in /Users/nicholasrenotte/opt/anaconda3/lib/python3.7/site-packages (from google-auth<2,>=1.6.3->tensorboard<3,>=2.3.0->tensorflow==2.3.0) (4.1.0)\n",
      "Requirement already satisfied: oauthlib>=3.0.0 in /Users/nicholasrenotte/opt/anaconda3/lib/python3.7/site-packages (from requests-oauthlib>=0.7.0->google-auth-oauthlib<0.5,>=0.4.1->tensorboard<3,>=2.3.0->tensorflow==2.3.0) (3.1.0)\n",
      "Requirement already satisfied: pyasn1<0.5.0,>=0.4.6 in /Users/nicholasrenotte/opt/anaconda3/lib/python3.7/site-packages (from pyasn1-modules>=0.2.1->google-auth<2,>=1.6.3->tensorboard<3,>=2.3.0->tensorflow==2.3.0) (0.4.8)\n",
      "Requirement already satisfied: gym in /Users/nicholasrenotte/opt/anaconda3/lib/python3.7/site-packages (0.17.2)\n",
      "Requirement already satisfied: pyglet<=1.5.0,>=1.4.0 in /Users/nicholasrenotte/opt/anaconda3/lib/python3.7/site-packages (from gym) (1.5.0)\n",
      "Requirement already satisfied: cloudpickle<1.4.0,>=1.2.0 in /Users/nicholasrenotte/opt/anaconda3/lib/python3.7/site-packages (from gym) (1.2.2)\n",
      "Requirement already satisfied: scipy in /Users/nicholasrenotte/opt/anaconda3/lib/python3.7/site-packages (from gym) (1.4.1)\n",
      "Requirement already satisfied: numpy>=1.10.4 in /Users/nicholasrenotte/opt/anaconda3/lib/python3.7/site-packages (from gym) (1.17.2)\n",
      "Requirement already satisfied: future in /Users/nicholasrenotte/opt/anaconda3/lib/python3.7/site-packages (from pyglet<=1.5.0,>=1.4.0->gym) (0.18.2)\n",
      "Requirement already satisfied: keras in /Users/nicholasrenotte/opt/anaconda3/lib/python3.7/site-packages (2.4.3)\n",
      "Requirement already satisfied: numpy>=1.9.1 in /Users/nicholasrenotte/opt/anaconda3/lib/python3.7/site-packages (from keras) (1.17.2)\n",
      "Requirement already satisfied: h5py in /Users/nicholasrenotte/opt/anaconda3/lib/python3.7/site-packages (from keras) (2.10.0)\n",
      "Requirement already satisfied: scipy>=0.14 in /Users/nicholasrenotte/opt/anaconda3/lib/python3.7/site-packages (from keras) (1.4.1)\n",
      "Requirement already satisfied: pyyaml in /Users/nicholasrenotte/opt/anaconda3/lib/python3.7/site-packages (from keras) (5.1.2)\n",
      "Requirement already satisfied: six in /Users/nicholasrenotte/opt/anaconda3/lib/python3.7/site-packages (from h5py->keras) (1.15.0)\n",
      "Requirement already satisfied: keras-rl2 in /Users/nicholasrenotte/opt/anaconda3/lib/python3.7/site-packages (1.0.4)\n",
      "Requirement already satisfied: tensorflow>=2.1.0 in /Users/nicholasrenotte/opt/anaconda3/lib/python3.7/site-packages (from keras-rl2) (2.3.0)\n",
      "Requirement already satisfied: tensorboard<3,>=2.3.0 in /Users/nicholasrenotte/opt/anaconda3/lib/python3.7/site-packages (from tensorflow>=2.1.0->keras-rl2) (2.3.0)\n",
      "Requirement already satisfied: numpy<1.19.0,>=1.16.0 in /Users/nicholasrenotte/opt/anaconda3/lib/python3.7/site-packages (from tensorflow>=2.1.0->keras-rl2) (1.17.2)\n",
      "Requirement already satisfied: gast==0.3.3 in /Users/nicholasrenotte/opt/anaconda3/lib/python3.7/site-packages (from tensorflow>=2.1.0->keras-rl2) (0.3.3)\n",
      "Requirement already satisfied: tensorflow-estimator<2.4.0,>=2.3.0 in /Users/nicholasrenotte/opt/anaconda3/lib/python3.7/site-packages (from tensorflow>=2.1.0->keras-rl2) (2.3.0)\n",
      "Requirement already satisfied: protobuf>=3.9.2 in /Users/nicholasrenotte/opt/anaconda3/lib/python3.7/site-packages (from tensorflow>=2.1.0->keras-rl2) (3.12.2)\n",
      "Requirement already satisfied: scipy==1.4.1 in /Users/nicholasrenotte/opt/anaconda3/lib/python3.7/site-packages (from tensorflow>=2.1.0->keras-rl2) (1.4.1)\n",
      "Requirement already satisfied: astunparse==1.6.3 in /Users/nicholasrenotte/opt/anaconda3/lib/python3.7/site-packages (from tensorflow>=2.1.0->keras-rl2) (1.6.3)\n"
     ]
    },
    {
     "name": "stdout",
     "output_type": "stream",
     "text": [
      "Requirement already satisfied: keras-preprocessing<1.2,>=1.1.1 in /Users/nicholasrenotte/opt/anaconda3/lib/python3.7/site-packages (from tensorflow>=2.1.0->keras-rl2) (1.1.2)\n",
      "Requirement already satisfied: termcolor>=1.1.0 in /Users/nicholasrenotte/opt/anaconda3/lib/python3.7/site-packages (from tensorflow>=2.1.0->keras-rl2) (1.1.0)\n",
      "Requirement already satisfied: google-pasta>=0.1.8 in /Users/nicholasrenotte/opt/anaconda3/lib/python3.7/site-packages (from tensorflow>=2.1.0->keras-rl2) (0.2.0)\n",
      "Requirement already satisfied: opt-einsum>=2.3.2 in /Users/nicholasrenotte/opt/anaconda3/lib/python3.7/site-packages (from tensorflow>=2.1.0->keras-rl2) (3.1.0)\n",
      "Requirement already satisfied: wheel>=0.26 in /Users/nicholasrenotte/opt/anaconda3/lib/python3.7/site-packages (from tensorflow>=2.1.0->keras-rl2) (0.33.6)\n",
      "Requirement already satisfied: absl-py>=0.7.0 in /Users/nicholasrenotte/opt/anaconda3/lib/python3.7/site-packages (from tensorflow>=2.1.0->keras-rl2) (0.9.0)\n",
      "Requirement already satisfied: six>=1.12.0 in /Users/nicholasrenotte/opt/anaconda3/lib/python3.7/site-packages (from tensorflow>=2.1.0->keras-rl2) (1.15.0)\n",
      "Requirement already satisfied: h5py<2.11.0,>=2.10.0 in /Users/nicholasrenotte/opt/anaconda3/lib/python3.7/site-packages (from tensorflow>=2.1.0->keras-rl2) (2.10.0)\n",
      "Requirement already satisfied: grpcio>=1.8.6 in /Users/nicholasrenotte/opt/anaconda3/lib/python3.7/site-packages (from tensorflow>=2.1.0->keras-rl2) (1.32.0)\n",
      "Requirement already satisfied: wrapt>=1.11.1 in /Users/nicholasrenotte/opt/anaconda3/lib/python3.7/site-packages (from tensorflow>=2.1.0->keras-rl2) (1.11.2)\n",
      "Requirement already satisfied: google-auth-oauthlib<0.5,>=0.4.1 in /Users/nicholasrenotte/opt/anaconda3/lib/python3.7/site-packages (from tensorboard<3,>=2.3.0->tensorflow>=2.1.0->keras-rl2) (0.4.1)\n",
      "Requirement already satisfied: markdown>=2.6.8 in /Users/nicholasrenotte/opt/anaconda3/lib/python3.7/site-packages (from tensorboard<3,>=2.3.0->tensorflow>=2.1.0->keras-rl2) (3.1.1)\n",
      "Requirement already satisfied: tensorboard-plugin-wit>=1.6.0 in /Users/nicholasrenotte/opt/anaconda3/lib/python3.7/site-packages (from tensorboard<3,>=2.3.0->tensorflow>=2.1.0->keras-rl2) (1.6.0.post3)\n",
      "Requirement already satisfied: setuptools>=41.0.0 in /Users/nicholasrenotte/opt/anaconda3/lib/python3.7/site-packages (from tensorboard<3,>=2.3.0->tensorflow>=2.1.0->keras-rl2) (41.4.0)\n",
      "Requirement already satisfied: google-auth<2,>=1.6.3 in /Users/nicholasrenotte/opt/anaconda3/lib/python3.7/site-packages (from tensorboard<3,>=2.3.0->tensorflow>=2.1.0->keras-rl2) (1.21.2)\n",
      "Requirement already satisfied: requests<3,>=2.21.0 in /Users/nicholasrenotte/opt/anaconda3/lib/python3.7/site-packages (from tensorboard<3,>=2.3.0->tensorflow>=2.1.0->keras-rl2) (2.24.0)\n",
      "Requirement already satisfied: werkzeug>=0.11.15 in /Users/nicholasrenotte/opt/anaconda3/lib/python3.7/site-packages (from tensorboard<3,>=2.3.0->tensorflow>=2.1.0->keras-rl2) (0.16.0)\n",
      "Requirement already satisfied: requests-oauthlib>=0.7.0 in /Users/nicholasrenotte/opt/anaconda3/lib/python3.7/site-packages (from google-auth-oauthlib<0.5,>=0.4.1->tensorboard<3,>=2.3.0->tensorflow>=2.1.0->keras-rl2) (1.3.0)\n",
      "Requirement already satisfied: rsa<5,>=3.1.4; python_version >= \"3.5\" in /Users/nicholasrenotte/opt/anaconda3/lib/python3.7/site-packages (from google-auth<2,>=1.6.3->tensorboard<3,>=2.3.0->tensorflow>=2.1.0->keras-rl2) (4.6)\n",
      "Requirement already satisfied: cachetools<5.0,>=2.0.0 in /Users/nicholasrenotte/opt/anaconda3/lib/python3.7/site-packages (from google-auth<2,>=1.6.3->tensorboard<3,>=2.3.0->tensorflow>=2.1.0->keras-rl2) (4.1.0)\n",
      "Requirement already satisfied: pyasn1-modules>=0.2.1 in /Users/nicholasrenotte/opt/anaconda3/lib/python3.7/site-packages (from google-auth<2,>=1.6.3->tensorboard<3,>=2.3.0->tensorflow>=2.1.0->keras-rl2) (0.2.8)\n",
      "Requirement already satisfied: chardet<4,>=3.0.2 in /Users/nicholasrenotte/opt/anaconda3/lib/python3.7/site-packages (from requests<3,>=2.21.0->tensorboard<3,>=2.3.0->tensorflow>=2.1.0->keras-rl2) (3.0.4)\n",
      "Requirement already satisfied: certifi>=2017.4.17 in /Users/nicholasrenotte/opt/anaconda3/lib/python3.7/site-packages (from requests<3,>=2.21.0->tensorboard<3,>=2.3.0->tensorflow>=2.1.0->keras-rl2) (2019.9.11)\n",
      "Requirement already satisfied: idna<3,>=2.5 in /Users/nicholasrenotte/opt/anaconda3/lib/python3.7/site-packages (from requests<3,>=2.21.0->tensorboard<3,>=2.3.0->tensorflow>=2.1.0->keras-rl2) (2.8)\n",
      "Requirement already satisfied: urllib3!=1.25.0,!=1.25.1,<1.26,>=1.21.1 in /Users/nicholasrenotte/opt/anaconda3/lib/python3.7/site-packages (from requests<3,>=2.21.0->tensorboard<3,>=2.3.0->tensorflow>=2.1.0->keras-rl2) (1.24.2)\n",
      "Requirement already satisfied: oauthlib>=3.0.0 in /Users/nicholasrenotte/opt/anaconda3/lib/python3.7/site-packages (from requests-oauthlib>=0.7.0->google-auth-oauthlib<0.5,>=0.4.1->tensorboard<3,>=2.3.0->tensorflow>=2.1.0->keras-rl2) (3.1.0)\n",
      "Requirement already satisfied: pyasn1>=0.1.3 in /Users/nicholasrenotte/opt/anaconda3/lib/python3.7/site-packages (from rsa<5,>=3.1.4; python_version >= \"3.5\"->google-auth<2,>=1.6.3->tensorboard<3,>=2.3.0->tensorflow>=2.1.0->keras-rl2) (0.4.8)\n"
     ]
    }
   ],
   "source": [
    "!pip install tensorflow==2.3.0\n",
    "!pip install gym\n",
    "!pip install keras\n",
    "!pip install keras-rl2"
   ]
  },
  {
   "cell_type": "markdown",
   "metadata": {},
   "source": [
    "# 1. Test Random Environment with OpenAI Gym"
   ]
  },
  {
   "cell_type": "code",
   "execution_count": 2,
   "metadata": {},
   "outputs": [],
   "source": [
    "from gym import Env\n",
    "from gym.spaces import Discrete, Box\n",
    "import numpy as np\n",
    "import random"
   ]
  },
  {
   "cell_type": "code",
   "execution_count": 56,
   "metadata": {},
   "outputs": [],
   "source": [
    "class ShowerEnv(Env):\n",
    "    def __init__(self):\n",
    "        # Actions we can take, down, stay, up\n",
    "        self.action_space = Discrete(3)\n",
    "        # Temperature array\n",
    "        self.observation_space = Box(low=np.array([0]), high=np.array([100]))\n",
    "        # Set start temp\n",
    "        self.state = 38 + random.randint(-3,3)\n",
    "        # Set shower length\n",
    "        self.shower_length = 60\n",
    "        \n",
    "    def step(self, action):\n",
    "        # Apply action\n",
    "        # 0 -1 = -1 temperature\n",
    "        # 1 -1 = 0 \n",
    "        # 2 -1 = 1 temperature \n",
    "        self.state += action -1 \n",
    "        # Reduce shower length by 1 second\n",
    "        self.shower_length -= 1 \n",
    "        \n",
    "        # Calculate reward\n",
    "        if self.state >=37 and self.state <=39: \n",
    "            reward =1 \n",
    "        else: \n",
    "            reward = -1 \n",
    "        \n",
    "        # Check if shower is done\n",
    "        if self.shower_length <= 0: \n",
    "            done = True\n",
    "        else:\n",
    "            done = False\n",
    "        \n",
    "        # Apply temperature noise\n",
    "        #self.state += random.randint(-1,1)\n",
    "        # Set placeholder for info\n",
    "        info = {}\n",
    "        \n",
    "        # Return step information\n",
    "        return self.state, reward, done, info\n",
    "\n",
    "    def render(self):\n",
    "        # Implement viz\n",
    "        pass\n",
    "    \n",
    "    def reset(self):\n",
    "        # Reset shower temperature\n",
    "        self.state = 38 + random.randint(-3,3)\n",
    "        # Reset shower time\n",
    "        self.shower_length = 60 \n",
    "        return self.state\n",
    "    "
   ]
  },
  {
   "cell_type": "code",
   "execution_count": 57,
   "metadata": {},
   "outputs": [
    {
     "name": "stderr",
     "output_type": "stream",
     "text": [
      "/Users/nicholasrenotte/opt/anaconda3/lib/python3.7/site-packages/gym/logger.py:30: UserWarning: \u001b[33mWARN: Box bound precision lowered by casting to float32\u001b[0m\n",
      "  warnings.warn(colorize('%s: %s'%('WARN', msg % args), 'yellow'))\n"
     ]
    }
   ],
   "source": [
    "env = ShowerEnv()"
   ]
  },
  {
   "cell_type": "code",
   "execution_count": 58,
   "metadata": {},
   "outputs": [
    {
     "data": {
      "text/plain": [
       "array([27.3778], dtype=float32)"
      ]
     },
     "execution_count": 58,
     "metadata": {},
     "output_type": "execute_result"
    }
   ],
   "source": [
    "env.observation_space.sample()"
   ]
  },
  {
   "cell_type": "code",
   "execution_count": 59,
   "metadata": {},
   "outputs": [
    {
     "name": "stdout",
     "output_type": "stream",
     "text": [
      "Episode:1 Score:8\n",
      "Episode:2 Score:-10\n",
      "Episode:3 Score:-54\n",
      "Episode:4 Score:-38\n",
      "Episode:5 Score:-32\n",
      "Episode:6 Score:-52\n",
      "Episode:7 Score:-50\n",
      "Episode:8 Score:-30\n",
      "Episode:9 Score:-38\n",
      "Episode:10 Score:10\n"
     ]
    }
   ],
   "source": [
    "episodes = 10\n",
    "for episode in range(1, episodes+1):\n",
    "    state = env.reset()\n",
    "    done = False\n",
    "    score = 0 \n",
    "    \n",
    "    while not done:\n",
    "        #env.render()\n",
    "        action = env.action_space.sample()\n",
    "        n_state, reward, done, info = env.step(action)\n",
    "        score+=reward\n",
    "    print('Episode:{} Score:{}'.format(episode, score))"
   ]
  },
  {
   "cell_type": "markdown",
   "metadata": {},
   "source": [
    "# 2. Create a Deep Learning Model with Keras"
   ]
  },
  {
   "cell_type": "code",
   "execution_count": 60,
   "metadata": {},
   "outputs": [],
   "source": [
    "import numpy as np\n",
    "from tensorflow.keras.models import Sequential\n",
    "from tensorflow.keras.layers import Dense, Flatten\n",
    "from tensorflow.keras.optimizers import Adam"
   ]
  },
  {
   "cell_type": "code",
   "execution_count": 61,
   "metadata": {},
   "outputs": [],
   "source": [
    "states = env.observation_space.shape\n",
    "actions = env.action_space.n"
   ]
  },
  {
   "cell_type": "code",
   "execution_count": 62,
   "metadata": {},
   "outputs": [
    {
     "data": {
      "text/plain": [
       "3"
      ]
     },
     "execution_count": 62,
     "metadata": {},
     "output_type": "execute_result"
    }
   ],
   "source": [
    "actions"
   ]
  },
  {
   "cell_type": "code",
   "execution_count": 63,
   "metadata": {},
   "outputs": [],
   "source": [
    "def build_model(states, actions):\n",
    "    model = Sequential()    \n",
    "    model.add(Dense(24, activation='relu', input_shape=states))\n",
    "    model.add(Dense(24, activation='relu'))\n",
    "    model.add(Dense(actions, activation='linear'))\n",
    "    return model"
   ]
  },
  {
   "cell_type": "code",
   "execution_count": 64,
   "metadata": {},
   "outputs": [],
   "source": [
    "del model "
   ]
  },
  {
   "cell_type": "code",
   "execution_count": 65,
   "metadata": {},
   "outputs": [],
   "source": [
    "model = build_model(states, actions)"
   ]
  },
  {
   "cell_type": "code",
   "execution_count": 66,
   "metadata": {},
   "outputs": [
    {
     "name": "stdout",
     "output_type": "stream",
     "text": [
      "Model: \"sequential_3\"\n",
      "_________________________________________________________________\n",
      "Layer (type)                 Output Shape              Param #   \n",
      "=================================================================\n",
      "dense_9 (Dense)              (None, 24)                48        \n",
      "_________________________________________________________________\n",
      "dense_10 (Dense)             (None, 24)                600       \n",
      "_________________________________________________________________\n",
      "dense_11 (Dense)             (None, 3)                 75        \n",
      "=================================================================\n",
      "Total params: 723\n",
      "Trainable params: 723\n",
      "Non-trainable params: 0\n",
      "_________________________________________________________________\n"
     ]
    }
   ],
   "source": [
    "model.summary()"
   ]
  },
  {
   "cell_type": "markdown",
   "metadata": {},
   "source": [
    "# 3. Build Agent with Keras-RL"
   ]
  },
  {
   "cell_type": "code",
   "execution_count": 67,
   "metadata": {},
   "outputs": [],
   "source": [
    "from rl.agents import DQNAgent\n",
    "from rl.policy import BoltzmannQPolicy\n",
    "from rl.memory import SequentialMemory"
   ]
  },
  {
   "cell_type": "code",
   "execution_count": 68,
   "metadata": {},
   "outputs": [],
   "source": [
    "def build_agent(model, actions):\n",
    "    policy = BoltzmannQPolicy()\n",
    "    memory = SequentialMemory(limit=50000, window_length=1)\n",
    "    dqn = DQNAgent(model=model, memory=memory, policy=policy, \n",
    "                  nb_actions=actions, nb_steps_warmup=10, target_model_update=1e-2)\n",
    "    return dqn"
   ]
  },
  {
   "cell_type": "code",
   "execution_count": null,
   "metadata": {},
   "outputs": [
    {
     "name": "stdout",
     "output_type": "stream",
     "text": [
      "Training for 50000 steps ...\n",
      "Interval 1 (0 steps performed)\n",
      "10000/10000 [==============================] - 50s 5ms/step - reward: -0.6330\n",
      "166 episodes - episode_reward: -38.000 [-60.000, 32.000] - loss: 1.235 - mae: 6.439 - mean_q: -8.204\n",
      "\n",
      "Interval 2 (10000 steps performed)\n",
      "10000/10000 [==============================] - 50s 5ms/step - reward: -0.5052\n",
      "167 episodes - episode_reward: -30.263 [-60.000, 36.000] - loss: 2.347 - mae: 11.012 - mean_q: -15.812\n",
      "\n",
      "Interval 3 (20000 steps performed)\n",
      "10000/10000 [==============================] - 49s 5ms/step - reward: -0.4650\n",
      "167 episodes - episode_reward: -27.964 [-60.000, 36.000] - loss: 2.621 - mae: 11.725 - mean_q: -16.873\n",
      "\n",
      "Interval 4 (30000 steps performed)\n",
      "10000/10000 [==============================] - 49s 5ms/step - reward: -0.4816\n",
      "166 episodes - episode_reward: -28.916 [-60.000, 42.000] - loss: 2.326 - mae: 10.960 - mean_q: -15.735\n",
      "\n",
      "Interval 5 (40000 steps performed)\n",
      " 6449/10000 [==================>...........] - ETA: 17s - reward: -0.4052"
     ]
    }
   ],
   "source": [
    "dqn = build_agent(model, actions)\n",
    "dqn.compile(Adam(lr=1e-3), metrics=['mae'])\n",
    "dqn.fit(env, nb_steps=50000, visualize=False, verbose=1)"
   ]
  },
  {
   "cell_type": "code",
   "execution_count": 54,
   "metadata": {},
   "outputs": [
    {
     "name": "stdout",
     "output_type": "stream",
     "text": [
      "Testing for 100 episodes ...\n",
      "Episode 1: reward: -56.000, steps: 60\n",
      "Episode 2: reward: -60.000, steps: 60\n",
      "Episode 3: reward: -50.000, steps: 60\n",
      "Episode 4: reward: -60.000, steps: 60\n",
      "Episode 5: reward: -56.000, steps: 60\n",
      "Episode 6: reward: -52.000, steps: 60\n",
      "Episode 7: reward: -60.000, steps: 60\n",
      "Episode 8: reward: -50.000, steps: 60\n",
      "Episode 9: reward: -52.000, steps: 60\n",
      "Episode 10: reward: -56.000, steps: 60\n",
      "Episode 11: reward: -60.000, steps: 60\n",
      "Episode 12: reward: -60.000, steps: 60\n",
      "Episode 13: reward: -52.000, steps: 60\n",
      "Episode 14: reward: -52.000, steps: 60\n",
      "Episode 15: reward: -58.000, steps: 60\n",
      "Episode 16: reward: -50.000, steps: 60\n",
      "Episode 17: reward: -54.000, steps: 60\n",
      "Episode 18: reward: -58.000, steps: 60\n",
      "Episode 19: reward: -60.000, steps: 60\n",
      "Episode 20: reward: -56.000, steps: 60\n",
      "Episode 21: reward: -56.000, steps: 60\n",
      "Episode 22: reward: -52.000, steps: 60\n",
      "Episode 23: reward: -60.000, steps: 60\n",
      "Episode 24: reward: -56.000, steps: 60\n",
      "Episode 25: reward: -58.000, steps: 60\n",
      "Episode 26: reward: -58.000, steps: 60\n",
      "Episode 27: reward: -58.000, steps: 60\n",
      "Episode 28: reward: -60.000, steps: 60\n",
      "Episode 29: reward: -58.000, steps: 60\n",
      "Episode 30: reward: -60.000, steps: 60\n",
      "Episode 31: reward: -56.000, steps: 60\n",
      "Episode 32: reward: -56.000, steps: 60\n",
      "Episode 33: reward: -60.000, steps: 60\n",
      "Episode 34: reward: -60.000, steps: 60\n",
      "Episode 35: reward: -54.000, steps: 60\n",
      "Episode 36: reward: -52.000, steps: 60\n",
      "Episode 37: reward: -52.000, steps: 60\n",
      "Episode 38: reward: -56.000, steps: 60\n",
      "Episode 39: reward: -60.000, steps: 60\n",
      "Episode 40: reward: -56.000, steps: 60\n",
      "Episode 41: reward: -54.000, steps: 60\n",
      "Episode 42: reward: -60.000, steps: 60\n",
      "Episode 43: reward: -54.000, steps: 60\n",
      "Episode 44: reward: -60.000, steps: 60\n",
      "Episode 45: reward: -60.000, steps: 60\n",
      "Episode 46: reward: -60.000, steps: 60\n",
      "Episode 47: reward: -60.000, steps: 60\n",
      "Episode 48: reward: -60.000, steps: 60\n",
      "Episode 49: reward: -60.000, steps: 60\n",
      "Episode 50: reward: -54.000, steps: 60\n",
      "Episode 51: reward: -56.000, steps: 60\n",
      "Episode 52: reward: -60.000, steps: 60\n",
      "Episode 53: reward: -58.000, steps: 60\n",
      "Episode 54: reward: -60.000, steps: 60\n",
      "Episode 55: reward: -56.000, steps: 60\n",
      "Episode 56: reward: -60.000, steps: 60\n",
      "Episode 57: reward: -58.000, steps: 60\n",
      "Episode 58: reward: -58.000, steps: 60\n",
      "Episode 59: reward: -58.000, steps: 60\n",
      "Episode 60: reward: -60.000, steps: 60\n",
      "Episode 61: reward: -60.000, steps: 60\n",
      "Episode 62: reward: -60.000, steps: 60\n",
      "Episode 63: reward: -54.000, steps: 60\n",
      "Episode 64: reward: -60.000, steps: 60\n",
      "Episode 65: reward: -60.000, steps: 60\n",
      "Episode 66: reward: -58.000, steps: 60\n",
      "Episode 67: reward: -60.000, steps: 60\n",
      "Episode 68: reward: -58.000, steps: 60\n",
      "Episode 69: reward: -60.000, steps: 60\n",
      "Episode 70: reward: -56.000, steps: 60\n",
      "Episode 71: reward: -58.000, steps: 60\n",
      "Episode 72: reward: -54.000, steps: 60\n",
      "Episode 73: reward: -54.000, steps: 60\n",
      "Episode 74: reward: -52.000, steps: 60\n",
      "Episode 75: reward: -58.000, steps: 60\n",
      "Episode 76: reward: -60.000, steps: 60\n",
      "Episode 77: reward: -58.000, steps: 60\n",
      "Episode 78: reward: -60.000, steps: 60\n",
      "Episode 79: reward: -54.000, steps: 60\n",
      "Episode 80: reward: -60.000, steps: 60\n",
      "Episode 81: reward: -54.000, steps: 60\n",
      "Episode 82: reward: -60.000, steps: 60\n",
      "Episode 83: reward: -54.000, steps: 60\n",
      "Episode 84: reward: -60.000, steps: 60\n",
      "Episode 85: reward: -58.000, steps: 60\n",
      "Episode 86: reward: -54.000, steps: 60\n",
      "Episode 87: reward: -60.000, steps: 60\n",
      "Episode 88: reward: -60.000, steps: 60\n",
      "Episode 89: reward: -56.000, steps: 60\n",
      "Episode 90: reward: -52.000, steps: 60\n",
      "Episode 91: reward: -58.000, steps: 60\n",
      "Episode 92: reward: -60.000, steps: 60\n",
      "Episode 93: reward: -60.000, steps: 60\n",
      "Episode 94: reward: -56.000, steps: 60\n",
      "Episode 95: reward: -54.000, steps: 60\n",
      "Episode 96: reward: -54.000, steps: 60\n",
      "Episode 97: reward: -60.000, steps: 60\n",
      "Episode 98: reward: -60.000, steps: 60\n",
      "Episode 99: reward: -60.000, steps: 60\n",
      "Episode 100: reward: -58.000, steps: 60\n",
      "-57.18\n"
     ]
    }
   ],
   "source": [
    "scores = dqn.test(env, nb_episodes=100, visualize=False)\n",
    "print(np.mean(scores.history['episode_reward']))"
   ]
  },
  {
   "cell_type": "code",
   "execution_count": 29,
   "metadata": {},
   "outputs": [
    {
     "name": "stdout",
     "output_type": "stream",
     "text": [
      "Testing for 15 episodes ...\n",
      "Episode 1: reward: 200.000, steps: 200\n",
      "Episode 2: reward: 200.000, steps: 200\n",
      "Episode 3: reward: 200.000, steps: 200\n",
      "Episode 4: reward: 200.000, steps: 200\n",
      "Episode 5: reward: 200.000, steps: 200\n",
      "Episode 6: reward: 200.000, steps: 200\n",
      "Episode 7: reward: 200.000, steps: 200\n",
      "Episode 8: reward: 200.000, steps: 200\n",
      "Episode 9: reward: 200.000, steps: 200\n",
      "Episode 10: reward: 200.000, steps: 200\n",
      "Episode 11: reward: 200.000, steps: 200\n",
      "Episode 12: reward: 200.000, steps: 200\n",
      "Episode 13: reward: 200.000, steps: 200\n",
      "Episode 14: reward: 200.000, steps: 200\n",
      "Episode 15: reward: 200.000, steps: 200\n"
     ]
    }
   ],
   "source": [
    "_ = dqn.test(env, nb_episodes=15, visualize=True)"
   ]
  },
  {
   "cell_type": "markdown",
   "metadata": {},
   "source": [
    "# 4. Reloading Agent from Memory"
   ]
  },
  {
   "cell_type": "code",
   "execution_count": 30,
   "metadata": {},
   "outputs": [],
   "source": [
    "dqn.save_weights('dqn_weights.h5f', overwrite=True)"
   ]
  },
  {
   "cell_type": "code",
   "execution_count": 31,
   "metadata": {},
   "outputs": [],
   "source": [
    "del model\n",
    "del dqn\n",
    "del env"
   ]
  },
  {
   "cell_type": "code",
   "execution_count": 9,
   "metadata": {},
   "outputs": [],
   "source": [
    "env = ShowerEnv()\n",
    "actions = env.action_space.n\n",
    "states = env.observation_space.shape\n",
    "model = build_model(states, actions)\n",
    "dqn = build_agent(model, actions)\n",
    "dqn.compile(Adam(lr=1e-3), metrics=['mae'])"
   ]
  },
  {
   "cell_type": "code",
   "execution_count": 10,
   "metadata": {},
   "outputs": [],
   "source": [
    "dqn.load_weights('dqn_weights.h5f')"
   ]
  },
  {
   "cell_type": "code",
   "execution_count": 11,
   "metadata": {},
   "outputs": [
    {
     "name": "stdout",
     "output_type": "stream",
     "text": [
      "Testing for 5 episodes ...\n",
      "WARNING:tensorflow:From /Users/nicholasrenotte/opt/anaconda3/lib/python3.7/site-packages/tensorflow/python/keras/engine/training_v1.py:2070: Model.state_updates (from tensorflow.python.keras.engine.training) is deprecated and will be removed in a future version.\n",
      "Instructions for updating:\n",
      "This property should not be used in TensorFlow 2.0, as updates are applied automatically.\n",
      "Episode 1: reward: 200.000, steps: 200\n",
      "Episode 2: reward: 200.000, steps: 200\n",
      "Episode 3: reward: 200.000, steps: 200\n",
      "Episode 4: reward: 200.000, steps: 200\n",
      "Episode 5: reward: 200.000, steps: 200\n"
     ]
    }
   ],
   "source": [
    "_ = dqn.test(env, nb_episodes=5, visualize=True)"
   ]
  },
  {
   "cell_type": "code",
   "execution_count": null,
   "metadata": {},
   "outputs": [],
   "source": []
  }
 ],
 "metadata": {
  "kernelspec": {
   "display_name": "Python 3",
   "language": "python",
   "name": "python3"
  },
  "language_info": {
   "codemirror_mode": {
    "name": "ipython",
    "version": 3
   },
   "file_extension": ".py",
   "mimetype": "text/x-python",
   "name": "python",
   "nbconvert_exporter": "python",
   "pygments_lexer": "ipython3",
   "version": "3.7.4"
  }
 },
 "nbformat": 4,
 "nbformat_minor": 2
}
